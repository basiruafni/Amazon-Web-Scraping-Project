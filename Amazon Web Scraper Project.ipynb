{
 "cells": [
  {
   "cell_type": "code",
   "execution_count": 34,
   "id": "3e494460",
   "metadata": {},
   "outputs": [
    {
     "name": "stdout",
     "output_type": "stream",
     "text": [
      "Processing https://www.amazon.com/funny-analyst-definition-scientist-t-shirt/dp/B07NLP2PKY/ref=sr_1_3?keywords=data+analyst+shirt&qid=1655184352&sr=8-3&page=1...\n",
      "\n",
      "\n",
      "\n",
      "\n",
      "\n",
      "                   funny data analyst definition data scientist T-Shirt\n",
      "                  \n",
      "\n",
      "\n",
      "\n",
      "\n",
      "\n",
      "\n",
      "\n",
      "\n",
      "\n",
      "\n",
      "                   Price:\n",
      "                  \n",
      "\n",
      "\n",
      "\n",
      "                     $19.99\n",
      "                    \n",
      "\n",
      "                     $19.99\n",
      "                    \n",
      "\n",
      "\n",
      "\n",
      "\n",
      "\n",
      "\n",
      "\n",
      "\n",
      "\n",
      "\n",
      "\n",
      "\n",
      "\n",
      "\n",
      "\n",
      "\n",
      "\n",
      "\n",
      "\n",
      "\n",
      "\n",
      "\n",
      "\n"
     ]
    }
   ],
   "source": [
    "# Import libraries\n",
    "\n",
    "import requests\n",
    "from bs4 import BeautifulSoup\n",
    "import pandas as pd\n",
    "from time import sleep\n",
    "\n",
    "headers = {\n",
    "    \"Accept\": \"text/html,application/xhtml+xml,application/xml;q=0.9,image/avif,image/webp,image/apng,*/*;q=0.8,application/signed-exchange;v=b3;q=0.9\", \n",
    "    \"Accept-Encoding\": \"gzip, deflate, br\", \n",
    "    \"Accept-Language\": \"en-US,en;q=0.9\", \n",
    "    \"User-Agent\": \"Mozilla/5.0 (Macintosh; Intel Mac OS X 10_15_7) AppleWebKit/537.36 (KHTML, like Gecko) Chrome/102.0.0.0 Safari/537.36\"\n",
    "  }\n",
    "\n",
    "url = 'https://www.amazon.com/funny-analyst-definition-scientist-t-shirt/dp/B07NLP2PKY/ref=sr_1_3?keywords=data+analyst+shirt&qid=1655184352&sr=8-3'\n",
    "\n",
    "items = []\n",
    "for i in range(1, 11):\n",
    "    print('Processing {0}...'.format(url + '&page={0}'.format(i)))\n",
    "    response = requests.get(url + '&page={0}'.format(i), headers=headers)\n",
    "    soup = BeautifulSoup(response.content, 'html.parser')\n",
    "    soup1 = BeautifulSoup(soup.prettify(), 'html.parser')\n",
    "    break\n",
    "\n",
    "#print(soup1)\n",
    "\n",
    "title = soup1.find(id=\"title_feature_div\").get_text()\n",
    "\n",
    "price = soup1.find(id=\"corePrice_desktop\").get_text()\n",
    "print(title)\n",
    "print(price)\n",
    "    "
   ]
  },
  {
   "cell_type": "code",
   "execution_count": 35,
   "id": "c79f23a2",
   "metadata": {},
   "outputs": [
    {
     "name": "stdout",
     "output_type": "stream",
     "text": [
      "funny data analyst definition data scientist T-Shirt\n",
      "Price:\n",
      "                  \n",
      "\n",
      "\n",
      "\n",
      "                     $19.99\n",
      "                    \n",
      "\n",
      "                     $19.99\n"
     ]
    }
   ],
   "source": [
    "price = price.strip()\n",
    "title = title.strip()\n",
    "\n",
    "print(title)\n",
    "print(price)"
   ]
  },
  {
   "cell_type": "code",
   "execution_count": 36,
   "id": "ac02c49f",
   "metadata": {},
   "outputs": [
    {
     "data": {
      "text/plain": [
       "'Price:\\n\\n\\n\\n\\n$19.99\\n\\n\\n$19.99'"
      ]
     },
     "execution_count": 36,
     "metadata": {},
     "output_type": "execute_result"
    }
   ],
   "source": [
    "x = price.replace(\" \", \"\")\n",
    "x"
   ]
  },
  {
   "cell_type": "code",
   "execution_count": 37,
   "id": "910a2019",
   "metadata": {},
   "outputs": [
    {
     "data": {
      "text/plain": [
       "'Price: $19.99 $19.99'"
      ]
     },
     "execution_count": 37,
     "metadata": {},
     "output_type": "execute_result"
    }
   ],
   "source": [
    "x = \" \".join(price.split())\n",
    "x"
   ]
  },
  {
   "cell_type": "code",
   "execution_count": 38,
   "id": "85dd81b2",
   "metadata": {},
   "outputs": [
    {
     "name": "stdout",
     "output_type": "stream",
     "text": [
      "funny data analyst definition data scientist T-Shirt\n",
      "$19.99 \n"
     ]
    }
   ],
   "source": [
    "print(title)\n",
    "price = x.strip()[7:14]\n",
    "print(price)"
   ]
  },
  {
   "cell_type": "code",
   "execution_count": 44,
   "id": "fb2c7c40",
   "metadata": {},
   "outputs": [
    {
     "name": "stdout",
     "output_type": "stream",
     "text": [
      "2022-06-17\n"
     ]
    }
   ],
   "source": [
    "import datetime\n",
    "\n",
    "today = datetime.date.today()\n",
    "\n",
    "print(today)"
   ]
  },
  {
   "cell_type": "code",
   "execution_count": 45,
   "id": "59f8cf8e",
   "metadata": {},
   "outputs": [],
   "source": [
    "import csv\n",
    "\n",
    "header = ['Title', 'Price', 'Date']\n",
    "data = [title, price, today]\n",
    "\n",
    "#with open('AmazonWebScrapingDataset.csv', 'w', newline='', encoding='utf-8') as f:\n",
    "    #writer = csv.writer(f)\n",
    "    #writer.writerow(header)\n",
    "    #writer.writerow(data)"
   ]
  },
  {
   "cell_type": "code",
   "execution_count": 51,
   "id": "203e9dfd",
   "metadata": {},
   "outputs": [
    {
     "name": "stdout",
     "output_type": "stream",
     "text": [
      "                                               Title    Price        Date\n",
      "0  funny data analyst definition data scientist T...  $19.99   2022-06-17\n",
      "1  funny data analyst definition data scientist T...  $19.99   2022-06-17\n",
      "2  funny data analyst definition data scientist T...  $19.99   2022-06-17\n"
     ]
    }
   ],
   "source": [
    "import pandas as pd\n",
    "\n",
    "df = pd.read_csv('/Users/afnimaratuljannahbasiru/AmazonWebScrapingDataset.csv')\n",
    "print(df)"
   ]
  },
  {
   "cell_type": "code",
   "execution_count": 50,
   "id": "25cd1fcd",
   "metadata": {},
   "outputs": [],
   "source": [
    "#Appending data to the csv\n",
    "\n",
    "with open('AmazonWebScrapingDataset.csv', 'a+', newline='', encoding='utf-8') as f:\n",
    "    writer = csv.writer(f)\n",
    "    writer.writerow(data)"
   ]
  },
  {
   "cell_type": "code",
   "execution_count": null,
   "id": "8a3f70c0",
   "metadata": {},
   "outputs": [],
   "source": [
    "def check_price():\n",
    "    headers = {\n",
    "    \"Accept\": \"text/html,application/xhtml+xml,application/xml;q=0.9,image/avif,image/webp,image/apng,*/*;q=0.8,application/signed-exchange;v=b3;q=0.9\", \n",
    "    \"Accept-Encoding\": \"gzip, deflate, br\", \n",
    "    \"Accept-Language\": \"en-US,en;q=0.9\", \n",
    "    \"User-Agent\": \"Mozilla/5.0 (Macintosh; Intel Mac OS X 10_15_7) AppleWebKit/537.36 (KHTML, like Gecko) Chrome/102.0.0.0 Safari/537.36\"\n",
    "    }\n",
    "    url = 'https://www.amazon.com/funny-analyst-definition-scientist-t-shirt/dp/B07NLP2PKY/ref=sr_1_3?keywords=data+analyst+shirt&qid=1655184352&sr=8-3'\n",
    "    items = []\n",
    "    for i in range(1, 11):\n",
    "        print('Processing {0}...'.format(url + '&page={0}'.format(i)))\n",
    "        response = requests.get(url + '&page={0}'.format(i), headers=headers)\n",
    "        soup = BeautifulSoup(response.content, 'html.parser')\n",
    "        soup1 = BeautifulSoup(soup.prettify(), 'html.parser')\n",
    "        break\n",
    "    title = soup1.find(id=\"title_feature_div\").get_text()\n",
    "    price = soup1.find(id=\"corePrice_desktop\").get_text()\n",
    "    price = price.strip()\n",
    "    title = title.strip()\n",
    "    x = price.replace(\" \", \"\")\n",
    "    x = \" \".join(price.split())\n",
    "    price = x.strip()[7:14]\n",
    "  \n",
    "    import datetime\n",
    "    \n",
    "    today = datetime.date.today()\n",
    "    \n",
    "    import csv\n",
    "    \n",
    "    header = ['Title', 'Price', 'Date']\n",
    "    data = [title, price, today]\n",
    "    with open('AmazonWebScrapingDataset.csv', 'a+', newline='', encoding='utf-8') as f:\n",
    "        writer = csv.writer(f)\n",
    "        writer.writerow(data)\n",
    "\n",
    "  \n"
   ]
  },
  {
   "cell_type": "code",
   "execution_count": null,
   "id": "a2487754",
   "metadata": {},
   "outputs": [],
   "source": [
    "import time"
   ]
  },
  {
   "cell_type": "code",
   "execution_count": null,
   "id": "308ace3c",
   "metadata": {},
   "outputs": [],
   "source": [
    "while(True):\n",
    "    check_price()\n",
    "    time.sleep(86400)"
   ]
  },
  {
   "cell_type": "code",
   "execution_count": 61,
   "id": "f1ee7ca2",
   "metadata": {},
   "outputs": [
    {
     "name": "stdout",
     "output_type": "stream",
     "text": [
      "                                               Title    Price        Date\n",
      "0  funny data analyst definition data scientist T...  $19.99   2022-06-17\n",
      "1  funny data analyst definition data scientist T...  $19.99   2022-06-17\n",
      "2  funny data analyst definition data scientist T...  $19.99   2022-06-17\n",
      "3  funny data analyst definition data scientist T...  $19.99   2022-06-17\n",
      "4  funny data analyst definition data scientist T...  $19.99   2022-06-17\n",
      "5  funny data analyst definition data scientist T...  $19.99   2022-06-17\n",
      "6  funny data analyst definition data scientist T...  $19.99   2022-06-17\n",
      "7  funny data analyst definition data scientist T...  $19.99   2022-06-17\n",
      "8  funny data analyst definition data scientist T...  $19.99   2022-06-17\n",
      "9  funny data analyst definition data scientist T...  $19.99   2022-06-17\n"
     ]
    }
   ],
   "source": [
    "import pandas as pd\n",
    "\n",
    "df = pd.read_csv('/Users/afnimaratuljannahbasiru/AmazonWebScrapingDataset.csv')\n",
    "\n",
    "print(df)"
   ]
  },
  {
   "cell_type": "code",
   "execution_count": null,
   "id": "707e2276",
   "metadata": {},
   "outputs": [],
   "source": []
  }
 ],
 "metadata": {
  "kernelspec": {
   "display_name": "Python 3 (ipykernel)",
   "language": "python",
   "name": "python3"
  },
  "language_info": {
   "codemirror_mode": {
    "name": "ipython",
    "version": 3
   },
   "file_extension": ".py",
   "mimetype": "text/x-python",
   "name": "python",
   "nbconvert_exporter": "python",
   "pygments_lexer": "ipython3",
   "version": "3.9.7"
  }
 },
 "nbformat": 4,
 "nbformat_minor": 5
}
